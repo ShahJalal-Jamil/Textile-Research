{
  "cells": [
    {
      "cell_type": "markdown",
      "metadata": {
        "id": "view-in-github",
        "colab_type": "text"
      },
      "source": [
        "<a href=\"https://colab.research.google.com/github/ShahJalal-Jamil/Textile-Research/blob/main/Textile.ipynb\" target=\"_parent\"><img src=\"https://colab.research.google.com/assets/colab-badge.svg\" alt=\"Open In Colab\"/></a>"
      ]
    },
    {
      "cell_type": "code",
      "execution_count": 25,
      "metadata": {
        "id": "WYSfO1A9bNIk"
      },
      "outputs": [],
      "source": [
        "from sklearn.model_selection import train_test_split\n",
        "from sklearn.model_selection import KFold\n",
        "from sklearn.metrics import accuracy_score\n",
        "from sklearn.metrics import confusion_matrix\n",
        "from sklearn.feature_selection import VarianceThreshold\n",
        "from sklearn.ensemble import ExtraTreesClassifier\n",
        "from sklearn.feature_selection import SelectFromModel\n",
        "from sklearn.metrics import confusion_matrix\n",
        "from sklearn.metrics import precision_score\n",
        "from sklearn.metrics import recall_score\n",
        "from sklearn.metrics import f1_score\n",
        "import warnings\n",
        "warnings.filterwarnings('ignore')\n",
        "import numpy as np"
      ]
    },
    {
      "cell_type": "code",
      "source": [
        "\n",
        "!git clone https://github.com/ShahJalal-Jamil/Textile-Research.git"
      ],
      "metadata": {
        "colab": {
          "base_uri": "https://localhost:8080/"
        },
        "id": "NstG1C8opHv0",
        "outputId": "404dbfb8-e68d-4881-8cf0-bb37c11fb736"
      },
      "execution_count": 26,
      "outputs": [
        {
          "output_type": "stream",
          "name": "stdout",
          "text": [
            "fatal: destination path 'Textile-Research' already exists and is not an empty directory.\n"
          ]
        }
      ]
    },
    {
      "cell_type": "code",
      "execution_count": 27,
      "metadata": {
        "id": "sA4-hTMVbNIp"
      },
      "outputs": [],
      "source": [
        "import pandas as pd\n",
        "\n",
        "df = pd.read_excel(r'/content/Textile-Research/data_textile.xlsx')\n",
        "df = df.replace('Jersey', 0, regex=True)\n",
        "df = df.replace('DLacoste', 1, regex=True)\n",
        "df = df.replace('Fleece', 2, regex=True)\n",
        "df = df.replace('Lacoste', 3, regex=True)\n",
        "df = df.replace('Pique', 4, regex=True)\n",
        "df = df.replace('Plain', 5, regex=True)\n",
        "df = df.replace('RDenim', 6, regex=True)\n",
        "df = df.replace('SDenim', 7, regex=True)\n",
        "df = df.replace('Twill', 8, regex=True)"
      ]
    },
    {
      "cell_type": "code",
      "execution_count": 29,
      "metadata": {
        "id": "0larfpoMbNIq",
        "outputId": "7017f8ed-53cf-4c24-8d70-37baed720961",
        "colab": {
          "base_uri": "https://localhost:8080/"
        }
      },
      "outputs": [
        {
          "output_type": "stream",
          "name": "stdout",
          "text": [
            "Fabric Name\n",
            "9\n",
            "ST\n",
            "4\n",
            "MS\n",
            "11\n",
            "SPI\n",
            "3\n",
            "NN\n",
            "5\n",
            "GSM\n",
            "66\n",
            "T_S\n",
            "287\n",
            "Tex\n",
            "5\n",
            "El\n",
            "86\n"
          ]
        }
      ],
      "source": [
        "c = df.columns\n",
        "for i in range(0,10):\n",
        "    if i!= 5:\n",
        "        column_name = c[i]\n",
        "        print(column_name)\n",
        "        l = df[column_name].unique()\n",
        "        print(l.size)\n",
        "        max_value = max(l)\n",
        "        for j in range(0,l.size):\n",
        "             df[column_name] = df[column_name].replace(l[j], l[j]/max_value)"
      ]
    },
    {
      "cell_type": "code",
      "execution_count": 30,
      "metadata": {
        "id": "Cb4twdQCbNIr",
        "outputId": "f3823bc9-1554-4b69-be50-8c30abb4cf3b",
        "colab": {
          "base_uri": "https://localhost:8080/"
        }
      },
      "outputs": [
        {
          "output_type": "stream",
          "name": "stdout",
          "text": [
            "     Fabric Name        ST     MS       SPI      NN    FT       GSM       T_S  \\\n",
            "0          0.000  0.714286  0.875  0.833333  0.5625  0.18  0.506329  0.339286   \n",
            "1          0.000  0.857143  0.950  0.833333  0.5625  0.21  0.506329  0.367857   \n",
            "2          0.000  0.714286  0.900  0.833333  0.5625  0.22  0.506329  0.367857   \n",
            "3          0.000  0.571429  0.875  0.833333  0.5625  0.22  0.506329  0.367857   \n",
            "4          0.000  0.714286  0.875  0.833333  0.5625  0.21  0.506329  0.367857   \n",
            "..           ...       ...    ...       ...     ...   ...       ...       ...   \n",
            "995        0.875  0.857143  0.750  0.833333  1.0000  0.62  0.981013  0.853571   \n",
            "996        0.875  0.714286  0.700  0.833333  1.0000  0.62  0.981013  0.777857   \n",
            "997        0.875  1.000000  0.750  0.833333  1.0000  0.62  0.981013  0.879286   \n",
            "998        0.875  0.714286  0.625  0.833333  1.0000  0.62  0.981013  0.835714   \n",
            "999        0.875  0.571429  0.700  0.833333  1.0000  0.62  0.981013  0.855714   \n",
            "\n",
            "     Tex        El  No of B._hr  Class (Y/N)  \n",
            "0    0.3  0.566465            2            1  \n",
            "1    0.3  0.566465            3            1  \n",
            "2    0.3  0.566465            1            0  \n",
            "3    0.3  0.641994            1            0  \n",
            "4    0.3  0.566465            1            0  \n",
            "..   ...       ...          ...          ...  \n",
            "995  1.0  1.000000            1            0  \n",
            "996  1.0  1.000000            1            0  \n",
            "997  1.0  0.986027            3            1  \n",
            "998  1.0  1.000000            0            0  \n",
            "999  1.0  0.910498            0            0  \n",
            "\n",
            "[1000 rows x 12 columns]\n"
          ]
        }
      ],
      "source": [
        "print(df)"
      ]
    },
    {
      "cell_type": "code",
      "execution_count": null,
      "metadata": {
        "id": "VQsssL_JbNIr"
      },
      "outputs": [],
      "source": [
        "X = df.iloc[:,:10]\n",
        "X = X.to_numpy()\n",
        "print(X.shape)\n",
        "y = df['Class (Y/N)']\n",
        "y = y.to_numpy()\n",
        "print(y.shape)\n",
        "# sel = VarianceThreshold()\n",
        "# X_new = sel.fit_transform(X)\n",
        "# clf = ExtraTreesClassifier(n_estimators=50)\n",
        "# clf = clf.fit(X, y)\n",
        "# model = SelectFromModel(clf, prefit=True)\n",
        "# X_new = model.transform(X)\n",
        "X_new = X\n",
        "print(X_new.shape)\n",
        "print(X_new)"
      ]
    },
    {
      "cell_type": "code",
      "execution_count": 33,
      "metadata": {
        "id": "6Wpq63yMbNIs",
        "outputId": "08c1fd4d-7d82-4beb-bf1f-ecfb901ffd02",
        "colab": {
          "base_uri": "https://localhost:8080/"
        }
      },
      "outputs": [
        {
          "output_type": "stream",
          "name": "stdout",
          "text": [
            "Accuracy :  72.30000000000001\n",
            "Misclassification Rate :  0.2769999999999999\n",
            "Precision :  58.15952071234997\n",
            "Recall :  72.30000000000001\n",
            "F1 Score :  63.68008465273663\n"
          ]
        }
      ],
      "source": [
        "# --- GaussianNB ---\n",
        "from sklearn.naive_bayes import GaussianNB\n",
        "folds = 10\n",
        "sum = 0\n",
        "precision = 0\n",
        "recall = 0\n",
        "f1score = 0\n",
        "kf = KFold(n_splits=folds, random_state=None, shuffle=False)\n",
        "for train_index, test_index in kf.split(X_new):\n",
        "    X_train, X_test = X[train_index], X[test_index]\n",
        "    y_train, y_test = y[train_index], y[test_index]\n",
        "    clf = GaussianNB()\n",
        "    model = clf.fit(X_train, y_train)\n",
        "    y_pred = model.predict(X_test)\n",
        "    cm = confusion_matrix(y_test, y_pred)\n",
        "    acc = accuracy_score(y_test, y_pred)\n",
        "    precision += precision_score(y_test, y_pred, average='weighted')\n",
        "    recall += recall_score(y_test, y_pred, average='weighted')\n",
        "    f1score += f1_score(y_test, y_pred, average='weighted')\n",
        "    sum += acc\n",
        "#     print(cm)\n",
        "#     print(acc)\n",
        "print(\"Accuracy : \", sum/folds*100)\n",
        "print(\"Misclassification Rate : \", (1-sum/folds))\n",
        "print(\"Precision : \", precision/folds*100)\n",
        "print(\"Recall : \", recall/folds*100)\n",
        "print(\"F1 Score : \", f1score/folds*100)"
      ]
    },
    {
      "cell_type": "code",
      "execution_count": 34,
      "metadata": {
        "id": "H_sNnZv0bNIs",
        "outputId": "98c2dcdd-797d-4a30-9214-a9ef9db4c3ed",
        "colab": {
          "base_uri": "https://localhost:8080/"
        }
      },
      "outputs": [
        {
          "output_type": "stream",
          "name": "stdout",
          "text": [
            "Accuracy :  64.90000000000002\n",
            "Misclassification Rate :  0.35099999999999976\n",
            "Precision :  48.97000000000003\n",
            "Recall :  64.90000000000002\n",
            "F1 Score :  54.49222676188627\n"
          ]
        }
      ],
      "source": [
        "# --- MultinomialNB ---\n",
        "from sklearn.naive_bayes import MultinomialNB\n",
        "folds = 100\n",
        "sum = 0\n",
        "precision = 0\n",
        "recall = 0\n",
        "f1score = 0\n",
        "kf = KFold(n_splits=folds, random_state=None, shuffle=False)\n",
        "for train_index, test_index in kf.split(X_new):\n",
        "    X_train, X_test = X[train_index], X[test_index]\n",
        "    y_train, y_test = y[train_index], y[test_index]\n",
        "    clf = MultinomialNB()\n",
        "    model = clf.fit(X_train, y_train)\n",
        "    y_pred = model.predict(X_test)\n",
        "    cm = confusion_matrix(y_test, y_pred)\n",
        "    acc = accuracy_score(y_test, y_pred)\n",
        "    precision += precision_score(y_test, y_pred, average='weighted')\n",
        "    recall += recall_score(y_test, y_pred, average='weighted')\n",
        "    f1score += f1_score(y_test, y_pred, average='weighted')\n",
        "    sum += acc\n",
        "#     print(cm)\n",
        "#     print(acc)\n",
        "print(\"Accuracy : \", sum/folds*100)\n",
        "print(\"Misclassification Rate : \", (1-sum/folds))\n",
        "print(\"Precision : \", precision/folds*100)\n",
        "print(\"Recall : \", recall/folds*100)\n",
        "print(\"F1 Score : \", f1score/folds*100)"
      ]
    },
    {
      "cell_type": "code",
      "execution_count": null,
      "metadata": {
        "id": "ey3yI-ppbNIt",
        "outputId": "5b015853-f071-4a4e-840f-4fff0b7145b5"
      },
      "outputs": [
        {
          "name": "stdout",
          "output_type": "stream",
          "text": [
            "Accuracy :  79.70000000000003\n",
            "Misclassification Rate :  0.20299999999999974\n",
            "Precision :  82.76158730158728\n",
            "Recall :  79.70000000000003\n",
            "F1 Score :  79.72543643662837\n"
          ]
        }
      ],
      "source": [
        "# --- Decision Tree Classifier ---\n",
        "from sklearn.tree import DecisionTreeClassifier\n",
        "folds = 100\n",
        "sum = 0\n",
        "precision = 0\n",
        "recall = 0\n",
        "f1score = 0\n",
        "kf = KFold(n_splits=folds, random_state=None, shuffle=False)\n",
        "for train_index, test_index in kf.split(X_new):\n",
        "    X_train, X_test = X[train_index], X[test_index]\n",
        "    y_train, y_test = y[train_index], y[test_index]\n",
        "    clf = DecisionTreeClassifier()\n",
        "    model = clf.fit(X_train, y_train)\n",
        "    y_pred = model.predict(X_test)\n",
        "    cm = confusion_matrix(y_test, y_pred)\n",
        "    acc = accuracy_score(y_test, y_pred)\n",
        "    precision += precision_score(y_test, y_pred, average='weighted')\n",
        "    recall += recall_score(y_test, y_pred, average='weighted')\n",
        "    f1score += f1_score(y_test, y_pred, average='weighted')\n",
        "    sum += acc\n",
        "#     print(cm)\n",
        "#     print(acc)\n",
        "print(\"Accuracy : \", sum/folds*100)\n",
        "print(\"Misclassification Rate : \", (1-sum/folds))\n",
        "print(\"Precision : \", precision/folds*100)\n",
        "print(\"Recall : \", recall/folds*100)\n",
        "print(\"F1 Score : \", f1score/folds*100)"
      ]
    },
    {
      "cell_type": "code",
      "execution_count": null,
      "metadata": {
        "id": "oCmTEk_ubNIt",
        "outputId": "5cc866ba-cf74-4342-d873-6c762db1eb1f"
      },
      "outputs": [
        {
          "name": "stdout",
          "output_type": "stream",
          "text": [
            "Accuracy :  73.60000000000002\n",
            "Misclassification Rate :  0.2639999999999998\n",
            "Precision :  61.25888888888892\n",
            "Recall :  73.60000000000002\n",
            "F1 Score :  64.71273788560941\n"
          ]
        }
      ],
      "source": [
        "# --- SVM ---\n",
        "from sklearn import svm\n",
        "folds = 100\n",
        "sum = 0\n",
        "precision = 0\n",
        "recall = 0\n",
        "f1score = 0\n",
        "kf = KFold(n_splits=folds, random_state=None, shuffle=False)\n",
        "for train_index, test_index in kf.split(X_new):\n",
        "    X_train, X_test = X[train_index], X[test_index]\n",
        "    y_train, y_test = y[train_index], y[test_index]\n",
        "    clf = svm.SVC(gamma='auto')\n",
        "    model = clf.fit(X_train, y_train)\n",
        "    y_pred = model.predict(X_test)\n",
        "    cm = confusion_matrix(y_test, y_pred)\n",
        "    acc = accuracy_score(y_test, y_pred)\n",
        "    precision += precision_score(y_test, y_pred, average='weighted')\n",
        "    recall += recall_score(y_test, y_pred, average='weighted')\n",
        "    f1score += f1_score(y_test, y_pred, average='weighted')\n",
        "    sum += acc\n",
        "#     print(cm)\n",
        "#     print(acc)\n",
        "print(\"Accuracy : \", sum/folds*100)\n",
        "print(\"Misclassification Rate : \", (1-sum/folds))\n",
        "print(\"Precision : \", precision/folds*100)\n",
        "print(\"Recall : \", recall/folds*100)\n",
        "print(\"F1 Score : \", f1score/folds*100)"
      ]
    },
    {
      "cell_type": "code",
      "execution_count": null,
      "metadata": {
        "scrolled": true,
        "id": "j3K70x7pbNIu",
        "outputId": "a5b15ef5-c44a-4a8f-f5ea-b54617827455"
      },
      "outputs": [
        {
          "name": "stdout",
          "output_type": "stream",
          "text": [
            "Accuracy :  76.19999999999999\n",
            "Misclassification Rate :  0.2380000000000001\n",
            "Precision :  79.89258121188615\n",
            "Recall :  76.19999999999999\n",
            "F1 Score :  73.60746199501916\n"
          ]
        }
      ],
      "source": [
        "# --- Stochastic Gradient Descent ---\n",
        "from sklearn.linear_model import SGDClassifier\n",
        "sum = 0\n",
        "precision = 0\n",
        "recall = 0\n",
        "f1score = 0\n",
        "folds = 10\n",
        "kf = KFold(n_splits=folds, random_state=None, shuffle=False)\n",
        "for train_index, test_index in kf.split(X_new):\n",
        "    X_train, X_test = X[train_index], X[test_index]\n",
        "    y_train, y_test = y[train_index], y[test_index]\n",
        "    clf = SGDClassifier()\n",
        "    model = clf.fit(X_train, y_train)\n",
        "    y_pred = model.predict(X_test)\n",
        "    cm = confusion_matrix(y_test, y_pred)\n",
        "    acc = accuracy_score(y_test, y_pred)\n",
        "    precision += precision_score(y_test, y_pred, average='weighted')\n",
        "    recall += recall_score(y_test, y_pred, average='weighted')\n",
        "    f1score += f1_score(y_test, y_pred, average='weighted')\n",
        "    sum += acc\n",
        "#     print(cm)\n",
        "#     print(acc)\n",
        "print(\"Accuracy : \", sum/folds*100)\n",
        "print(\"Misclassification Rate : \", (1-sum/folds))\n",
        "print(\"Precision : \", precision/folds*100)\n",
        "print(\"Recall : \", recall/folds*100)\n",
        "print(\"F1 Score : \", f1score/folds*100)"
      ]
    },
    {
      "cell_type": "code",
      "execution_count": null,
      "metadata": {
        "id": "RngZSb9jbNIv",
        "outputId": "71b97402-23e1-42e9-9411-eed8a0257173"
      },
      "outputs": [
        {
          "name": "stdout",
          "output_type": "stream",
          "text": [
            "Accuracy :  75.0\n",
            "Misclassification Rate :  0.25\n",
            "Precision :  75.90126006427498\n",
            "Recall :  75.0\n",
            "F1 Score :  72.88445425267352\n"
          ]
        }
      ],
      "source": [
        "# --- KNN ---\n",
        "from sklearn.neighbors import KNeighborsClassifier\n",
        "sum = 0\n",
        "folds = 10\n",
        "precision = 0\n",
        "recall = 0\n",
        "f1score = 0\n",
        "kf = KFold(n_splits=folds, random_state=None, shuffle=False)\n",
        "for train_index, test_index in kf.split(X_new):\n",
        "    X_train, X_test = X[train_index], X[test_index]\n",
        "    y_train, y_test = y[train_index], y[test_index]\n",
        "    clf = KNeighborsClassifier(n_neighbors=3)\n",
        "    model = clf.fit(X_train, y_train)\n",
        "    y_pred = model.predict(X_test)\n",
        "    cm = confusion_matrix(y_test, y_pred)\n",
        "    acc = accuracy_score(y_test, y_pred)\n",
        "    precision += precision_score(y_test, y_pred, average='weighted')\n",
        "    recall += recall_score(y_test, y_pred, average='weighted')\n",
        "    f1score += f1_score(y_test, y_pred, average='weighted')\n",
        "    sum += acc\n",
        "#     print(cm)\n",
        "#     print(acc)\n",
        "print(\"Accuracy : \", sum/folds*100)\n",
        "print(\"Misclassification Rate : \", (1-sum/folds))\n",
        "print(\"Precision : \", precision/folds*100)\n",
        "print(\"Recall : \", recall/folds*100)\n",
        "print(\"F1 Score : \", f1score/folds*100)"
      ]
    },
    {
      "cell_type": "code",
      "execution_count": null,
      "metadata": {
        "id": "V4lRC_V5bNIv",
        "outputId": "ed639936-f6fc-480f-821f-fc152e939d05"
      },
      "outputs": [
        {
          "name": "stdout",
          "output_type": "stream",
          "text": [
            "Accuracy :  74.3\n",
            "Misclassification Rate :  0.257\n",
            "Precision :  77.02469517710544\n",
            "Recall :  74.3\n",
            "F1 Score :  72.44826617976462\n"
          ]
        }
      ],
      "source": [
        "# --- AdaBoostClassifier ---\n",
        "from sklearn.ensemble import AdaBoostClassifier\n",
        "sum = 0\n",
        "folds = 10\n",
        "precision = 0\n",
        "recall = 0\n",
        "f1score = 0\n",
        "kf = KFold(n_splits=folds, random_state=None, shuffle=False)\n",
        "for train_index, test_index in kf.split(X_new):\n",
        "    X_train, X_test = X[train_index], X[test_index]\n",
        "    y_train, y_test = y[train_index], y[test_index]\n",
        "    clf = AdaBoostClassifier()\n",
        "    model = clf.fit(X_train, y_train)\n",
        "    y_pred = model.predict(X_test)\n",
        "    cm = confusion_matrix(y_test, y_pred)\n",
        "    acc = accuracy_score(y_test, y_pred)\n",
        "    precision += precision_score(y_test, y_pred, average='weighted')\n",
        "    recall += recall_score(y_test, y_pred, average='weighted')\n",
        "    f1score += f1_score(y_test, y_pred, average='weighted')\n",
        "    sum += acc\n",
        "#     print(cm)\n",
        "#     print(acc)\n",
        "print(\"Accuracy : \", sum/folds*100)\n",
        "print(\"Misclassification Rate : \", (1-sum/folds))\n",
        "print(\"Precision : \", precision/folds*100)\n",
        "print(\"Recall : \", recall/folds*100)\n",
        "print(\"F1 Score : \", f1score/folds*100)"
      ]
    },
    {
      "cell_type": "code",
      "execution_count": null,
      "metadata": {
        "id": "mP1YsSmYbNIw",
        "outputId": "539dcd2d-0d43-4e28-f033-7ac595420045"
      },
      "outputs": [
        {
          "name": "stdout",
          "output_type": "stream",
          "text": [
            "Accuracy :  82.20000000000006\n",
            "Misclassification Rate :  0.17799999999999938\n",
            "Precision :  84.17801587301587\n",
            "Recall :  82.20000000000006\n",
            "F1 Score :  81.5072838771136\n"
          ]
        }
      ],
      "source": [
        "# --- Random Forest Classifier ---\n",
        "from sklearn.ensemble import RandomForestClassifier\n",
        "sum = 0\n",
        "folds = 100\n",
        "precision = 0\n",
        "recall = 0\n",
        "f1score = 0\n",
        "kf = KFold(n_splits=folds, random_state=None, shuffle=False)\n",
        "for train_index, test_index in kf.split(X_new):\n",
        "    X_train, X_test = X[train_index], X[test_index]\n",
        "    y_train, y_test = y[train_index], y[test_index]\n",
        "    clf = RandomForestClassifier(n_estimators=50)\n",
        "    model = clf.fit(X_train, y_train)\n",
        "    y_pred = model.predict(X_test)\n",
        "    cm = confusion_matrix(y_test, y_pred)\n",
        "    acc = accuracy_score(y_test, y_pred)\n",
        "    precision += precision_score(y_test, y_pred, average='weighted')\n",
        "    recall += recall_score(y_test, y_pred, average='weighted')\n",
        "    f1score += f1_score(y_test, y_pred, average='weighted')\n",
        "    sum += acc\n",
        "#     print(cm)\n",
        "#     print(acc)\n",
        "print(\"Accuracy : \", sum/folds*100)\n",
        "print(\"Misclassification Rate : \", (1-sum/folds))\n",
        "print(\"Precision : \", precision/folds*100)\n",
        "print(\"Recall : \", recall/folds*100)\n",
        "print(\"F1 Score : \", f1score/folds*100)"
      ]
    },
    {
      "cell_type": "code",
      "execution_count": null,
      "metadata": {
        "id": "bOM7pS35bNIw",
        "outputId": "4e0f1b6d-2220-46f5-9f53-ad7c0df99775"
      },
      "outputs": [
        {
          "name": "stdout",
          "output_type": "stream",
          "text": [
            "Accuracy :  64.90000000000002\n",
            "Misclassification Rate :  0.35099999999999987\n",
            "Precision :  46.84700000000001\n",
            "Recall :  64.90000000000002\n",
            "F1 Score :  53.3894822285444\n"
          ]
        }
      ],
      "source": [
        "# # --- Multi Layer Perceptrone ---\n",
        "# from sklearn.neural_network import MLPClassifier\n",
        "# sum = 0\n",
        "# folds = 10\n",
        "# precision = 0\n",
        "# recall = 0\n",
        "# f1score = 0\n",
        "# y_pred = []\n",
        "# X_updated = X_new\n",
        "# kf = KFold(n_splits=folds, random_state=None, shuffle=False)\n",
        "# for train_index, test_index in kf.split(X_updated):\n",
        "#     if len(y_pred) == 0:\n",
        "#         X_train, X_test = X[train_index], X[test_index]\n",
        "#         y_train, y_test = y[train_index], y[test_index]\n",
        "#         clf = MLPClassifier(hidden_layer_sizes=100, activation='tanh', solver='sgd', max_iter=100)\n",
        "#         model = clf.fit(X_train, y_train)\n",
        "#         y_pred = model.predict(X_test)\n",
        "#         cm = confusion_matrix(y_test, y_pred)\n",
        "#         acc = accuracy_score(y_test, y_pred)\n",
        "#         precision += precision_score(y_test, y_pred, average='weighted')\n",
        "#         recall += recall_score(y_test, y_pred, average='weighted')\n",
        "#         f1score += f1_score(y_test, y_pred, average='weighted')\n",
        "#     else:\n",
        "#         y_pred = np.array(y_pred)\n",
        "# #        print(y_pred.shape)\n",
        "#         X_train, X_test = X[train_index], X[test_index]\n",
        "# #        print(X_train.shape)\n",
        "# #         np.append(X_train, y_pred, axis=1)\n",
        "# #         np.column_stack((X_train,y_pred))\n",
        "#         for i in range(0,len(X_train)):\n",
        "#             if(i < len(y_pred)):\n",
        "#                 np.append(X_train[i],y_pred[i])\n",
        "#             else:\n",
        "#                 np.append(X_train[i], 0)\n",
        "#         y_train, y_test = y[train_index], y[test_index]\n",
        "#         clf = MLPClassifier(hidden_layer_sizes=100, activation='tanh', solver='sgd', max_iter=100)\n",
        "#         model = clf.fit(X_train, y_train)\n",
        "#         y_pred = model.predict(X_test)\n",
        "#         cm = confusion_matrix(y_test, y_pred)\n",
        "#         acc = accuracy_score(y_test, y_pred)\n",
        "#         precision += precision_score(y_test, y_pred, average='weighted')\n",
        "#         recall += recall_score(y_test, y_pred, average='weighted')\n",
        "#         f1score += f1_score(y_test, y_pred, average='weighted')\n",
        "#     sum += acc\n",
        "# #     print(cm)\n",
        "# #     print(acc)\n",
        "# print(\"Accuracy : \", sum/folds*100)\n",
        "# print(\"Misclassification Rate : \", (1-sum/folds))\n",
        "# print(\"Precision : \", precision/folds*100)\n",
        "# print(\"Recall : \", recall/folds*100)\n",
        "# print(\"F1 Score : \", f1score/folds*100)"
      ]
    },
    {
      "cell_type": "code",
      "execution_count": null,
      "metadata": {
        "id": "aPmRXJ59bNIx",
        "outputId": "0c52ee1e-cd5e-444d-ed3b-0dd33f70486f"
      },
      "outputs": [
        {
          "name": "stdout",
          "output_type": "stream",
          "text": [
            "(1000, 10)\n",
            "(1000,)\n",
            "(1000, 11)\n",
            "Accuracy :  65.10000000000001\n",
            "Misclassification Rate :  0.34899999999999987\n",
            "Precision :  49.410000000000025\n",
            "Recall :  65.10000000000001\n",
            "F1 Score :  54.84222676188627\n"
          ]
        }
      ],
      "source": [
        "from sklearn.neural_network import MLPClassifier\n",
        "sum = 0\n",
        "folds = 100\n",
        "precision = 0\n",
        "recall = 0\n",
        "f1score = 0\n",
        "y_pred = []\n",
        "X_updated_new = np.zeros(shape=(1000, 11))\n",
        "X_updated = X_new\n",
        "clf = MLPClassifier(hidden_layer_sizes=1, activation='tanh', solver='sgd', max_iter=100)\n",
        "model = clf.fit(X_updated, y)\n",
        "y_pred = model.predict(X_updated)\n",
        "print(X_updated.shape)\n",
        "print(y_pred.shape)\n",
        "l = (int)(X_updated.size/10)\n",
        "for i in range(0,l):\n",
        "    X_updated_new[i] = np.append(X_updated[i],y_pred[i])\n",
        "print(X_updated_new.shape)\n",
        "clf = MLPClassifier(hidden_layer_sizes=100, activation='tanh', solver='sgd', max_iter=100)\n",
        "kf = KFold(n_splits=folds, random_state=None, shuffle=False)\n",
        "for train_index, test_index in kf.split(X_updated_new):\n",
        "    X_train, X_test = X_updated_new[train_index], X_updated_new[test_index]\n",
        "    y_train, y_test = y[train_index], y[test_index]\n",
        "    model = clf.fit(X_train, y_train)\n",
        "    y_pred = model.predict(X_test)\n",
        "    cm = confusion_matrix(y_test, y_pred)\n",
        "    acc = accuracy_score(y_test, y_pred)\n",
        "    sum += acc\n",
        "    precision += precision_score(y_test, y_pred, average='weighted')\n",
        "    recall += recall_score(y_test, y_pred, average='weighted')\n",
        "    f1score += f1_score(y_test, y_pred, average='weighted')\n",
        "#     print(cm)\n",
        "#     print(acc)\n",
        "print(\"Accuracy : \", sum/folds*100)\n",
        "print(\"Misclassification Rate : \", (1-sum/folds))\n",
        "print(\"Precision : \", precision/folds*100)\n",
        "print(\"Recall : \", recall/folds*100)\n",
        "print(\"F1 Score : \", f1score/folds*100)"
      ]
    },
    {
      "cell_type": "code",
      "execution_count": null,
      "metadata": {
        "id": "q5_qaV-8bNIx"
      },
      "outputs": [],
      "source": []
    }
  ],
  "metadata": {
    "kernelspec": {
      "display_name": "Python 3",
      "language": "python",
      "name": "python3"
    },
    "language_info": {
      "codemirror_mode": {
        "name": "ipython",
        "version": 3
      },
      "file_extension": ".py",
      "mimetype": "text/x-python",
      "name": "python",
      "nbconvert_exporter": "python",
      "pygments_lexer": "ipython3",
      "version": "3.7.4"
    },
    "colab": {
      "provenance": [],
      "include_colab_link": true
    }
  },
  "nbformat": 4,
  "nbformat_minor": 0
}