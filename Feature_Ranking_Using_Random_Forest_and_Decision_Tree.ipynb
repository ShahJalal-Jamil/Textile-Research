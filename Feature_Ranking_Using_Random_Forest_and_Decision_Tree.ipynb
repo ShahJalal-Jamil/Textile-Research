{
  "nbformat": 4,
  "nbformat_minor": 0,
  "metadata": {
    "colab": {
      "provenance": [],
      "authorship_tag": "ABX9TyPYyXjslHzoBxVPnWPxx7b/",
      "include_colab_link": true
    },
    "kernelspec": {
      "name": "python3",
      "display_name": "Python 3"
    },
    "language_info": {
      "name": "python"
    }
  },
  "cells": [
    {
      "cell_type": "markdown",
      "metadata": {
        "id": "view-in-github",
        "colab_type": "text"
      },
      "source": [
        "<a href=\"https://colab.research.google.com/github/ShahJalal-Jamil/Textile-Research/blob/main/Feature_Ranking_Using_Random_Forest_and_Decision_Tree.ipynb\" target=\"_parent\"><img src=\"https://colab.research.google.com/assets/colab-badge.svg\" alt=\"Open In Colab\"/></a>"
      ]
    },
    {
      "cell_type": "code",
      "execution_count": null,
      "metadata": {
        "colab": {
          "base_uri": "https://localhost:8080/"
        },
        "id": "FcjibK7JT0sK",
        "outputId": "e5bc171f-b853-463f-bef1-bbebf00740b9"
      },
      "outputs": [
        {
          "output_type": "stream",
          "name": "stdout",
          "text": [
            "fatal: destination path 'Textile-Research' already exists and is not an empty directory.\n",
            "     Fabric Name  ST    MS  SPI  NN    FT  GSM    T_S  Tex     El  \\\n",
            "0              0   5  3500   10   9  0.18  160   4.75   30  15.00   \n",
            "1              0   6  3800   10   9  0.21  160   5.15   30  15.00   \n",
            "2              0   5  3600   10   9  0.22  160   5.15   30  15.00   \n",
            "3              0   4  3500   10   9  0.22  160   5.15   30  17.00   \n",
            "4              0   5  3500   10   9  0.21  160   5.15   30  15.00   \n",
            "..           ...  ..   ...  ...  ..   ...  ...    ...  ...    ...   \n",
            "995            7   6  3000   10  16  0.62  310  11.95  100  26.48   \n",
            "996            7   5  2800   10  16  0.62  310  10.89  100  26.48   \n",
            "997            7   7  3000   10  16  0.62  310  12.31  100  26.11   \n",
            "998            7   5  2500   10  16  0.62  310  11.70  100  26.48   \n",
            "999            7   4  2800   10  16  0.62  310  11.98  100  24.11   \n",
            "\n",
            "     No of B._hr  Class (Y/N)  \n",
            "0              2            1  \n",
            "1              3            1  \n",
            "2              1            0  \n",
            "3              1            0  \n",
            "4              1            0  \n",
            "..           ...          ...  \n",
            "995            1            0  \n",
            "996            1            0  \n",
            "997            3            1  \n",
            "998            0            0  \n",
            "999            0            0  \n",
            "\n",
            "[1000 rows x 12 columns]\n"
          ]
        }
      ],
      "source": [
        "# Dataset load and Pre-processing\n",
        "!git clone https://github.com/ShahJalal-Jamil/Textile-Research.git\n",
        "import pandas as pd\n",
        "\n",
        "df = pd.read_excel(r'/content/Textile-Research/data_textile.xlsx')\n",
        "df = df.replace('Jersey', 0, regex=True)\n",
        "df = df.replace('DLacoste', 1, regex=True)\n",
        "df = df.replace('Fleece', 2, regex=True)\n",
        "df = df.replace('Lacoste', 3, regex=True)\n",
        "df = df.replace('Pique', 4, regex=True)\n",
        "df = df.replace('Plain', 5, regex=True)\n",
        "df = df.replace('RDenim', 6, regex=True)\n",
        "df = df.replace('SDenim', 7, regex=True)\n",
        "df = df.replace('Twill', 8, regex=True)\n",
        "print (df)"
      ]
    },
    {
      "cell_type": "code",
      "source": [
        "# Data Normalization\n",
        "\n",
        "c = df.columns\n",
        "for i in range(0,10):\n",
        "    if i!= 5:\n",
        "        column_name = c[i]\n",
        "        print(column_name)\n",
        "        l = df[column_name].unique()\n",
        "        #print (l)\n",
        "        print(l.size)\n",
        "        max_value = max(l)\n",
        "        for j in range(0,l.size):\n",
        "            df[column_name] = df[column_name].replace(l[j], l[j]/max_value)\n",
        "#print (df)\n",
        "\n"
      ],
      "metadata": {
        "colab": {
          "base_uri": "https://localhost:8080/"
        },
        "id": "tSC5WOyxUkV-",
        "outputId": "6150ed08-401f-4e78-8754-0946eac0e9d4"
      },
      "execution_count": null,
      "outputs": [
        {
          "output_type": "stream",
          "name": "stdout",
          "text": [
            "Fabric Name\n",
            "9\n",
            "ST\n",
            "4\n",
            "MS\n",
            "11\n",
            "SPI\n",
            "3\n",
            "NN\n",
            "5\n",
            "GSM\n",
            "66\n",
            "T_S\n",
            "287\n",
            "Tex\n",
            "5\n",
            "El\n",
            "86\n"
          ]
        }
      ]
    },
    {
      "cell_type": "code",
      "source": [
        "#print (df)\n",
        "features= df.iloc[:,:10]\n",
        "print (features)\n",
        "target= df.iloc[:,11]\n",
        "print (target)\n",
        "\n",
        "# Feature Name\n",
        "c = df.columns\n",
        "print (c[0:12])\n"
      ],
      "metadata": {
        "colab": {
          "base_uri": "https://localhost:8080/"
        },
        "id": "Ik81-CdIWWO3",
        "outputId": "0726a4f6-46a5-43a4-96a5-2ca96bc0a34c"
      },
      "execution_count": null,
      "outputs": [
        {
          "output_type": "stream",
          "name": "stdout",
          "text": [
            "     Fabric Name        ST     MS       SPI      NN    FT       GSM       T_S  \\\n",
            "0          0.000  0.714286  0.875  0.833333  0.5625  0.18  0.506329  0.339286   \n",
            "1          0.000  0.857143  0.950  0.833333  0.5625  0.21  0.506329  0.367857   \n",
            "2          0.000  0.714286  0.900  0.833333  0.5625  0.22  0.506329  0.367857   \n",
            "3          0.000  0.571429  0.875  0.833333  0.5625  0.22  0.506329  0.367857   \n",
            "4          0.000  0.714286  0.875  0.833333  0.5625  0.21  0.506329  0.367857   \n",
            "..           ...       ...    ...       ...     ...   ...       ...       ...   \n",
            "995        0.875  0.857143  0.750  0.833333  1.0000  0.62  0.981013  0.853571   \n",
            "996        0.875  0.714286  0.700  0.833333  1.0000  0.62  0.981013  0.777857   \n",
            "997        0.875  1.000000  0.750  0.833333  1.0000  0.62  0.981013  0.879286   \n",
            "998        0.875  0.714286  0.625  0.833333  1.0000  0.62  0.981013  0.835714   \n",
            "999        0.875  0.571429  0.700  0.833333  1.0000  0.62  0.981013  0.855714   \n",
            "\n",
            "     Tex        El  \n",
            "0    0.3  0.566465  \n",
            "1    0.3  0.566465  \n",
            "2    0.3  0.566465  \n",
            "3    0.3  0.641994  \n",
            "4    0.3  0.566465  \n",
            "..   ...       ...  \n",
            "995  1.0  1.000000  \n",
            "996  1.0  1.000000  \n",
            "997  1.0  0.986027  \n",
            "998  1.0  1.000000  \n",
            "999  1.0  0.910498  \n",
            "\n",
            "[1000 rows x 10 columns]\n",
            "0      1\n",
            "1      1\n",
            "2      0\n",
            "3      0\n",
            "4      0\n",
            "      ..\n",
            "995    0\n",
            "996    0\n",
            "997    1\n",
            "998    0\n",
            "999    0\n",
            "Name: Class (Y/N), Length: 1000, dtype: int64\n",
            "Index(['Fabric Name', 'ST', 'MS', 'SPI', 'NN', 'FT', 'GSM', 'T_S', 'Tex', 'El',\n",
            "       'No of B._hr', 'Class (Y/N)'],\n",
            "      dtype='object')\n"
          ]
        }
      ]
    },
    {
      "cell_type": "code",
      "source": [
        "# Step 1: Import necessary libraries\n",
        "import numpy as np\n",
        "import pandas as pd\n",
        "from sklearn.model_selection import train_test_split\n",
        "from sklearn.tree import DecisionTreeClassifier\n",
        "import matplotlib.pyplot as plt\n",
        "\n",
        "# Step 2: Load your dataset (this example uses the Iris dataset)\n",
        "#from sklearn.datasets import load_iris\n",
        "data = df\n",
        "X, y = features, target\n",
        "feature_names = c[0:11]\n",
        "\n",
        "# Step 3: Split the dataset into training and testing sets\n",
        "X_train, X_test, y_train, y_test = train_test_split(X, y, test_size=0.2, random_state=42)\n",
        "\n",
        "# Step 4: Train a decision tree model\n",
        "clf = DecisionTreeClassifier(random_state=42)\n",
        "clf.fit(X_train, y_train)\n",
        "\n",
        "# Step 5: Retrieve and visualize the feature importances\n",
        "importances = clf.feature_importances_\n",
        "indices = np.argsort(importances)[::-1]\n",
        "\n",
        "# Print the feature ranking\n",
        "print(\"Feature ranking:\")\n",
        "\n",
        "for f in range(X.shape[1]):\n",
        "    print(f\"{f + 1}. feature {indices[f]} ({importances[indices[f]]})\")\n",
        "\n",
        "# Plot the feature importances\n",
        "plt.figure()\n",
        "plt.title(\"Feature importances\")\n",
        "plt.bar(range(X.shape[1]), importances[indices], align=\"center\")\n",
        "plt.xticks(range(X.shape[1]), [feature_names[i] for i in indices], rotation=90)\n",
        "plt.xlim([-1, X.shape[1]])\n",
        "plt.show()\n"
      ],
      "metadata": {
        "colab": {
          "base_uri": "https://localhost:8080/",
          "height": 724
        },
        "id": "bEc7tOuaVUp4",
        "outputId": "ef107e2f-7269-4960-9c26-ce4f8260a505"
      },
      "execution_count": null,
      "outputs": [
        {
          "output_type": "stream",
          "name": "stdout",
          "text": [
            "Feature ranking:\n",
            "1. feature 7 (0.344403199542219)\n",
            "2. feature 9 (0.2624498865444755)\n",
            "3. feature 2 (0.11094296274611064)\n",
            "4. feature 1 (0.09207420958126074)\n",
            "5. feature 5 (0.08273524093192992)\n",
            "6. feature 6 (0.06737576611081512)\n",
            "7. feature 3 (0.01658816877284548)\n",
            "8. feature 4 (0.016529273013414378)\n",
            "9. feature 0 (0.006901292756929264)\n",
            "10. feature 8 (0.0)\n"
          ]
        },
        {
          "output_type": "display_data",
          "data": {
            "text/plain": [
              "<Figure size 640x480 with 1 Axes>"
            ],
            "image/png": "[encoded data removed]"
          },
          "metadata": {}
        }
      ]
    },
    {
      "cell_type": "markdown",
      "source": [
        "# Feature Ranking Using Random Forest Algorithm"
      ],
      "metadata": {
        "id": "e-9_C5UNf2uG"
      }
    },
    {
      "cell_type": "markdown",
      "source": [],
      "metadata": {
        "id": "gjQZwmZHf4iI"
      }
    },
    {
      "cell_type": "code",
      "source": [
        "# Step 1: Import necessary libraries\n",
        "import numpy as np\n",
        "from sklearn.model_selection import train_test_split\n",
        "from sklearn.ensemble import RandomForestClassifier\n",
        "import matplotlib.pyplot as plt\n",
        "from sklearn.datasets import load_iris\n",
        "\n",
        "# Step 2: Load your dataset (this example uses the Iris dataset)\n",
        "data = load_iris()\n",
        "X, y = features, target\n",
        "feature_names = c[0:11]\n",
        "\n",
        "# Step 3: Split the dataset into training and testing sets\n",
        "X_train, X_test, y_train, y_test = train_test_split(X, y, test_size=0.2, random_state=42)\n",
        "\n",
        "# Step 4: Train a Random Forest model\n",
        "clf = RandomForestClassifier(random_state=42)\n",
        "clf.fit(X_train, y_train)\n",
        "\n",
        "# Step 5: Retrieve and visualize the feature importances\n",
        "importances = clf.feature_importances_\n",
        "indices = np.argsort(importances)[::-1]\n",
        "\n",
        "# Print the feature ranking with names\n",
        "print(\"Feature ranking:\")\n",
        "for f in range(X.shape[1]):\n",
        "    print(f\"{f + 1}. feature '{feature_names[indices[f]]}' ({importances[indices[f]]})\")\n",
        "\n",
        "# Plot the feature importances\n",
        "plt.figure()\n",
        "plt.title(\"Feature importances\")\n",
        "plt.bar(range(X.shape[1]), importances[indices], align=\"center\")\n",
        "plt.xticks(range(X.shape[1]), [feature_names[i] for i in indices], rotation=90)\n",
        "plt.xlim([-1, X.shape[1]])\n",
        "plt.show()\n"
      ],
      "metadata": {
        "colab": {
          "base_uri": "https://localhost:8080/",
          "height": 724
        },
        "id": "EhyUgx9lf-zk",
        "outputId": "743591ff-8a97-44d3-f4bf-619d23535d0d"
      },
      "execution_count": null,
      "outputs": [
        {
          "output_type": "stream",
          "name": "stdout",
          "text": [
            "Feature ranking:\n",
            "1. feature 'T_S' (0.2639336721092654)\n",
            "2. feature 'El' (0.196030352691763)\n",
            "3. feature 'MS' (0.13157702243166983)\n",
            "4. feature 'FT' (0.11350463666938093)\n",
            "5. feature 'GSM' (0.11307218489661844)\n",
            "6. feature 'ST' (0.07946316567066325)\n",
            "7. feature 'Fabric Name' (0.04213622772820256)\n",
            "8. feature 'NN' (0.03226870169712867)\n",
            "9. feature 'SPI' (0.018648035296961615)\n",
            "10. feature 'Tex' (0.009366000808346372)\n"
          ]
        },
        {
          "output_type": "display_data",
          "data": {
            "text/plain": [
              "<Figure size 640x480 with 1 Axes>"
            ],
            "image/png": "[encoded data removed]"
          },
          "metadata": {}
        }
      ]
    }
  ]
}